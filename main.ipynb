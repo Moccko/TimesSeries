{
 "cells": [
  {
   "cell_type": "markdown",
   "metadata": {},
   "source": [
    "# Time series\n",
    "Following https://www.tutorialspoint.com/time_series"
   ]
  },
  {
   "cell_type": "code",
   "execution_count": null,
   "metadata": {},
   "outputs": [],
   "source": [
    "!pip install hurst"
   ]
  },
  {
   "cell_type": "code",
   "execution_count": null,
   "metadata": {},
   "outputs": [],
   "source": [
    "import numpy\n",
    "import pandas\n",
    "import datetime\n",
    "import matplotlib.pyplot as plt\n",
    "from sklearn import metrics\n",
    "\n",
    "from math import sqrt\n",
    "\n",
    "from statsmodels.tsa.stattools import adfuller\n",
    "from statsmodels.graphics.tsaplots import plot_acf, plot_pacf\n",
    "import hurst\n",
    "from statsmodels.tsa.arima_model import ARIMA\n",
    "from statsmodels.tsa.statespace.varmax import VARMAX\n",
    "from scipy.stats.stats import pearsonr\n",
    "from statsmodels.tsa.statespace.sarimax import SARIMAX\n",
    "from statsmodels.tsa.holtwinters import ExponentialSmoothing"
   ]
  },
  {
   "cell_type": "code",
   "execution_count": null,
   "metadata": {},
   "outputs": [],
   "source": [
    "df = pandas.read_csv(\"data/AirQualityUCI.csv\", sep = \";\", decimal = \",\")\n",
    "df = df.iloc[ : , 0:14]\n",
    "df = df[df['Date'].notnull()]\n",
    "\n",
    "df['DateTime'] = (df.Date) + ' ' + (df.Time)\n",
    "df.DateTime = df.DateTime.apply(lambda x: datetime.datetime.strptime(x, '%d/%m/%Y %H.%M.%S'))\n",
    "df.index = df.DateTime\n",
    "\n",
    "df.head()"
   ]
  },
  {
   "cell_type": "code",
   "execution_count": null,
   "metadata": {},
   "outputs": [],
   "source": [
    "plt.boxplot(df[['T','C6H6(GT)']].values)"
   ]
  },
  {
   "cell_type": "markdown",
   "metadata": {},
   "source": [
    "## Statistics"
   ]
  },
  {
   "cell_type": "code",
   "execution_count": null,
   "metadata": {},
   "outputs": [],
   "source": [
    "print (f\"Mean: {numpy.mean(df['T'])}\",\n",
    "       f\"Standard deviation: {numpy.std(df['T'])}\",\n",
    "       f\"Maximum Temperature: {max(df['T'])}\",\n",
    "       f\"Minimum Temperature: {min(df['T'])}\",\n",
    "       sep=\"\\n\"\n",
    ")"
   ]
  },
  {
   "cell_type": "markdown",
   "metadata": {},
   "source": [
    "## Showing 1st naïve method"
   ]
  },
  {
   "cell_type": "code",
   "execution_count": null,
   "metadata": {},
   "outputs": [],
   "source": [
    "df['T']\n",
    "df['T_t-1'] = df['T'].shift(1)\n",
    "df_naive = df[['T','T_t-1']][1:]\n",
    "true = df_naive['T']\n",
    "prediction = df_naive['T_t-1']\n",
    "error = sqrt(metrics.mean_squared_error(true,prediction))\n",
    "print ('RMSE for Naive Method 1: ', error)"
   ]
  },
  {
   "cell_type": "markdown",
   "metadata": {},
   "source": [
    "## Showing 2nd naive method"
   ]
  },
  {
   "cell_type": "code",
   "execution_count": null,
   "metadata": {},
   "outputs": [],
   "source": [
    "df['T_rm'] = df['T'].rolling(3).mean().shift(1)\n",
    "df_naive = df[['T','T_rm']].dropna()\n",
    "true = df_naive['T']\n",
    "prediction = df_naive['T_rm']\n",
    "error = sqrt(metrics.mean_squared_error(true,prediction))\n",
    "print ('RMSE for Naive Method 2: ', error)"
   ]
  },
  {
   "cell_type": "markdown",
   "metadata": {},
   "source": [
    "## Showing ACP"
   ]
  },
  {
   "cell_type": "code",
   "execution_count": null,
   "metadata": {},
   "outputs": [],
   "source": [
    "split = len(df) - int(0.2*len(df))\n",
    "train, test = df['T'][0:split], df['T'][split:]\n",
    "plot_acf(train, lags = 100)\n",
    "plt.show()"
   ]
  },
  {
   "cell_type": "markdown",
   "metadata": {},
   "source": [
    "## Showing PACP"
   ]
  },
  {
   "cell_type": "code",
   "execution_count": null,
   "metadata": {},
   "outputs": [],
   "source": [
    "plot_pacf(train, lags = 100)\n",
    "plt.show()"
   ]
  },
  {
   "cell_type": "markdown",
   "metadata": {},
   "source": [
    "# ARIMA"
   ]
  },
  {
   "cell_type": "markdown",
   "metadata": {},
   "source": [
    "## Check stationarity"
   ]
  },
  {
   "cell_type": "code",
   "execution_count": null,
   "metadata": {},
   "outputs": [],
   "source": [
    "result = adfuller(train)\n",
    "print('ADF Statistic: %f' % result[0])\n",
    "print('p-value: %f' % result[1])\n",
    "print('Critical Values:')\n",
    "for key, value in result[4].items():\n",
    "    print('\\t%s: %.3f' % (key, value))"
   ]
  },
  {
   "cell_type": "code",
   "execution_count": null,
   "metadata": {},
   "outputs": [],
   "source": [
    "H, c,data = hurst.compute_Hc(train)\n",
    "print(\"H = {:.4f}, c = {:.4f}\".format(H,c))"
   ]
  },
  {
   "cell_type": "code",
   "execution_count": null,
   "metadata": {},
   "outputs": [],
   "source": [
    "model = ARIMA(train.values, order=(5, 0, 2))\n",
    "model_fit = model.fit(disp=False)\n",
    "\n",
    "predictions = model_fit.predict(len(test))\n",
    "test_ = pandas.DataFrame(test)\n",
    "test_['predictions'] = predictions[0:1871]\n",
    "\n",
    "plt.plot(df['T'])\n",
    "plt.plot(test_.predictions)\n",
    "plt.show()\n",
    "\n",
    "error = sqrt(metrics.mean_squared_error(test.values,predictions[0:1871]))\n",
    "print ('Test RMSE for ARIMA: ', error)"
   ]
  },
  {
   "cell_type": "markdown",
   "metadata": {},
   "source": [
    "## VARMA"
   ]
  },
  {
   "cell_type": "code",
   "execution_count": null,
   "metadata": {},
   "outputs": [],
   "source": [
    "df_multi = df[['T', 'C6H6(GT)']]\n",
    "split = len(df) - int(0.2*len(df))\n",
    "train_multi, test_multi = df_multi[0:split], df_multi[split:]\n",
    "\n",
    "model = VARMAX(train_multi, order = (2,1))\n",
    "model_fit = model.fit()\n",
    "predictions_multi = model_fit.forecast( steps=len(test_multi))\n",
    "\n",
    "plt.plot(train_multi['T'])\n",
    "plt.plot(test_multi['T'])\n",
    "plt.plot(predictions_multi.iloc[:,0:1], '--')\n",
    "plt.show()\n",
    "\n",
    "plt.plot(train_multi['C6H6(GT)'])\n",
    "plt.plot(test_multi['C6H6(GT)'])\n",
    "plt.plot(predictions_multi.iloc[:,1:2], '--')\n",
    "plt.show()"
   ]
  },
  {
   "cell_type": "markdown",
   "metadata": {},
   "source": [
    "## SARIMA with Exogenous Variables (SARIMAX)"
   ]
  },
  {
   "cell_type": "code",
   "execution_count": null,
   "metadata": {},
   "outputs": [],
   "source": [
    "x = train_multi['T'].values\n",
    "y = train_multi['C6H6(GT)'].values\n",
    "\n",
    "corr , p = pearsonr(x,y)\n",
    "print ('Corelation Coefficient =', corr,'\\nP-Value =',p)\n",
    "\n",
    "model = SARIMAX(x, exog = y, order = (2, 0, 2), seasonal_order = (2, 0, 1, 1), enforce_stationarity=False, enforce_invertibility = False)\n",
    "model_fit = model.fit(disp = False)\n",
    "\n",
    "y_ = test_multi['C6H6(GT)'].values\n",
    "predicted = model_fit.predict(exog=y_)\n",
    "test_multi_ = pandas.DataFrame(test)\n",
    "test_multi_['predictions'] = predicted[0:1871]\n",
    "\n",
    "plt.plot(train_multi['T'])\n",
    "plt.plot(test_multi_['T'])\n",
    "plt.plot(test_multi_.predictions, '--')"
   ]
  },
  {
   "cell_type": "markdown",
   "metadata": {},
   "source": [
    "# Exponential Smoothing"
   ]
  },
  {
   "cell_type": "markdown",
   "metadata": {},
   "source": [
    "## Triple Exponential Smoothing"
   ]
  },
  {
   "cell_type": "code",
   "execution_count": null,
   "metadata": {},
   "outputs": [],
   "source": [
    "model = ExponentialSmoothing(train.values, trend= )\n",
    "model_fit = model.fit()\n",
    "\n",
    "predictions_ = model_fit.predict(len(test))\n",
    "\n",
    "plt.plot(test.values)\n",
    "plt.plot(predictions_[1:1871])"
   ]
  }
 ],
 "metadata": {
  "kernelspec": {
   "display_name": "Python 3",
   "language": "python",
   "name": "python3"
  },
  "language_info": {
   "codemirror_mode": {
    "name": "ipython",
    "version": 3
   },
   "file_extension": ".py",
   "mimetype": "text/x-python",
   "name": "python",
   "nbconvert_exporter": "python",
   "pygments_lexer": "ipython3",
   "version": "3.7.5"
  }
 },
 "nbformat": 4,
 "nbformat_minor": 1
}
